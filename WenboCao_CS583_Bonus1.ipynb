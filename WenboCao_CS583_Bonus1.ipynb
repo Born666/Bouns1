{
 "cells": [
  {
   "cell_type": "markdown",
   "metadata": {},
   "source": [
    "# Bonus 1: Numerical Optimization for Logistic Regression.\n",
    "\n",
    "### Name: Wenbo Cao\n"
   ]
  },
  {
   "cell_type": "markdown",
   "metadata": {},
   "source": [
    "## 0. You will do the following:\n",
    "\n",
    "1. Read the lecture note: [click here](https://github.com/wangshusen/DeepLearning/blob/master/LectureNotes/Logistic/paper/logistic.pdf)\n",
    "\n",
    "2. Read, complete, and run my code.\n",
    "\n",
    "3. **Implement mini-batch SGD** and evaluate the performance. (1 bonus point.)\n",
    "\n",
    "4. Convert the .IPYNB file to .HTML file.\n",
    "\n",
    "    * The HTML file must contain **the code** and **the output after execution**.\n",
    "    \n",
    "5. Upload this .HTML file to your Github repo.\n",
    "\n",
    "6. Submit the link to this .HTML file to Canvas.\n",
    "\n",
    "    * Example: https://github.com/wangshusen/CS583-2019F/blob/master/homework/Bonus1/Bonus1.html\n",
    "\n",
    "\n",
    "## Grading criteria:\n",
    "\n",
    "1. When computing the ```gradient``` and ```objective function value``` using a batch of samples, use **matrix-vector multiplication** rather than a FOR LOOP of **vector-vector multiplications**.\n",
    "\n",
    "2. Plot ```objective function value``` against ```epochs```. In the plot, compare GD, SGD, and MB-SGD (with $b=8$ and $b=64$). The plot must look reasonable."
   ]
  },
  {
   "cell_type": "code",
   "execution_count": null,
   "metadata": {},
   "outputs": [],
   "source": []
  },
  {
   "cell_type": "markdown",
   "metadata": {},
   "source": [
    "# 1. Data processing\n",
    "\n",
    "- Download the Diabete dataset from https://www.csie.ntu.edu.tw/~cjlin/libsvmtools/datasets/binary/diabetes\n",
    "- Load the data using sklearn.\n",
    "- Preprocess the data."
   ]
  },
  {
   "cell_type": "markdown",
   "metadata": {},
   "source": [
    "## 1.1. Load the data"
   ]
  },
  {
   "cell_type": "code",
   "execution_count": 2,
   "metadata": {},
   "outputs": [
    {
     "name": "stdout",
     "output_type": "stream",
     "text": [
      "Shape of x: (768, 8)\n",
      "Shape of y: (768,)\n"
     ]
    }
   ],
   "source": [
    "from sklearn import datasets\n",
    "import numpy\n",
    "\n",
    "x_sparse, y = datasets.load_svmlight_file(r'D:\\sit\\2019Fall\\Deep Learning\\Bonus1\\diabetes')\n",
    "x = x_sparse.todense()\n",
    "\n",
    "print('Shape of x: ' + str(x.shape))\n",
    "print('Shape of y: ' + str(y.shape))"
   ]
  },
  {
   "cell_type": "markdown",
   "metadata": {},
   "source": [
    "## 1.2. Partition to training and test sets"
   ]
  },
  {
   "cell_type": "code",
   "execution_count": 3,
   "metadata": {},
   "outputs": [
    {
     "name": "stdout",
     "output_type": "stream",
     "text": [
      "Shape of x_train: (615, 8)\n",
      "Shape of x_test: (153, 8)\n",
      "Shape of y_train: (615, 1)\n",
      "Shape of y_test: (153, 1)\n"
     ]
    }
   ],
   "source": [
    "# partition the data to training and test sets\n",
    "n = x.shape[0]\n",
    "n_train = int(numpy.ceil(n * 0.8))\n",
    "n_test = n - n_train\n",
    "\n",
    "rand_indices = numpy.random.permutation(n)\n",
    "train_indices = rand_indices[0:n_train]\n",
    "test_indices = rand_indices[n_train:n]\n",
    "\n",
    "x_train = x[train_indices, :]\n",
    "x_test = x[test_indices, :]\n",
    "y_train = y[train_indices].reshape(n_train, 1)\n",
    "y_test = y[test_indices].reshape(n_test, 1)\n",
    "\n",
    "print('Shape of x_train: ' + str(x_train.shape))\n",
    "print('Shape of x_test: ' + str(x_test.shape))\n",
    "print('Shape of y_train: ' + str(y_train.shape))\n",
    "print('Shape of y_test: ' + str(y_test.shape))"
   ]
  },
  {
   "cell_type": "markdown",
   "metadata": {},
   "source": [
    "## 1.3. Feature scaling"
   ]
  },
  {
   "cell_type": "markdown",
   "metadata": {},
   "source": [
    "Use the standardization to trainsform both training and test features"
   ]
  },
  {
   "cell_type": "code",
   "execution_count": 4,
   "metadata": {},
   "outputs": [
    {
     "name": "stdout",
     "output_type": "stream",
     "text": [
      "test mean = \n",
      "[[-0.0824532  -0.04673405  0.02931964  0.02225372  0.00171416  0.04719932\n",
      "  -0.08665877 -0.03625847]]\n",
      "test std = \n",
      "[[0.95619468 1.02881307 0.9721778  1.06188232 1.10346945 1.16297777\n",
      "  0.86169795 0.93646417]]\n"
     ]
    }
   ],
   "source": [
    "# Standardization\n",
    "import numpy\n",
    "\n",
    "# calculate mu and sig using the training set\n",
    "d = x_train.shape[1]\n",
    "mu = numpy.mean(x_train, axis=0).reshape(1, d)\n",
    "sig = numpy.std(x_train, axis=0).reshape(1, d)\n",
    "\n",
    "# transform the training features\n",
    "x_train = (x_train - mu) / (sig + 1E-6)\n",
    "\n",
    "# transform the test features\n",
    "x_test = (x_test - mu) / (sig + 1E-6)\n",
    "\n",
    "print('test mean = ')\n",
    "print(numpy.mean(x_test, axis=0))\n",
    "\n",
    "print('test std = ')\n",
    "print(numpy.std(x_test, axis=0))"
   ]
  },
  {
   "cell_type": "markdown",
   "metadata": {},
   "source": [
    "## 1.4. Add a dimension of all ones"
   ]
  },
  {
   "cell_type": "code",
   "execution_count": 5,
   "metadata": {},
   "outputs": [
    {
     "name": "stdout",
     "output_type": "stream",
     "text": [
      "Shape of x_train: (615, 9)\n",
      "Shape of x_test: (153, 9)\n"
     ]
    }
   ],
   "source": [
    "n_train, d = x_train.shape\n",
    "x_train = numpy.concatenate((x_train, numpy.ones((n_train, 1))), axis=1)\n",
    "\n",
    "n_test, d = x_test.shape\n",
    "x_test = numpy.concatenate((x_test, numpy.ones((n_test, 1))), axis=1)\n",
    "\n",
    "print('Shape of x_train: ' + str(x_train.shape))\n",
    "print('Shape of x_test: ' + str(x_test.shape))"
   ]
  },
  {
   "cell_type": "markdown",
   "metadata": {},
   "source": [
    "# 2. Logistic regression model\n",
    "\n",
    "The objective function is $Q (w; X, y) = \\frac{1}{n} \\sum_{i=1}^n \\log \\Big( 1 + \\exp \\big( - y_i x_i^T w \\big) \\Big) + \\frac{\\lambda}{2} \\| w \\|_2^2 $."
   ]
  },
  {
   "cell_type": "code",
   "execution_count": 6,
   "metadata": {},
   "outputs": [],
   "source": [
    "# Calculate the objective function value\n",
    "# Inputs:\n",
    "#     w: d-by-1 matrix\n",
    "#     x: n-by-d matrix\n",
    "#     y: n-by-1 matrix\n",
    "#     lam: scalar, the regularization parameter\n",
    "# Return:\n",
    "#     objective function value (scalar)\n",
    "def objective(w, x, y, lam):\n",
    "    n, d = x.shape\n",
    "    yx = numpy.multiply(y, x) # n-by-d matrix\n",
    "    yxw = numpy.dot(yx, w) # n-by-1 matrix\n",
    "    vec1 = numpy.exp(-yxw) # n-by-1 matrix\n",
    "    vec2 = numpy.log(1 + vec1) # n-by-1 matrix\n",
    "    loss = numpy.mean(vec2) # scalar\n",
    "    reg = lam / 2 * numpy.sum(w * w) # scalar\n",
    "    return loss + reg\n",
    "    "
   ]
  },
  {
   "cell_type": "code",
   "execution_count": 7,
   "metadata": {},
   "outputs": [
    {
     "name": "stdout",
     "output_type": "stream",
     "text": [
      "Initial objective function value = 0.6931471805599453\n"
     ]
    }
   ],
   "source": [
    "# initialize w\n",
    "d = x_train.shape[1]\n",
    "w = numpy.zeros((d, 1))\n",
    "\n",
    "# evaluate the objective function value at w\n",
    "lam = 1E-6\n",
    "objval0 = objective(w, x_train, y_train, lam)\n",
    "print('Initial objective function value = ' + str(objval0))"
   ]
  },
  {
   "cell_type": "markdown",
   "metadata": {},
   "source": [
    "# 3. Numerical optimization"
   ]
  },
  {
   "cell_type": "markdown",
   "metadata": {},
   "source": [
    "## 3.1. Gradient descent\n"
   ]
  },
  {
   "cell_type": "markdown",
   "metadata": {},
   "source": [
    "The gradient at $w$ is $g = - \\frac{1}{n} \\sum_{i=1}^n \\frac{y_i x_i }{1 + \\exp ( y_i x_i^T w)} + \\lambda w$"
   ]
  },
  {
   "cell_type": "code",
   "execution_count": 8,
   "metadata": {},
   "outputs": [],
   "source": [
    "# Calculate the gradient\n",
    "# Inputs:\n",
    "#     w: d-by-1 matrix\n",
    "#     x: n-by-d matrix\n",
    "#     y: n-by-1 matrix\n",
    "#     lam: scalar, the regularization parameter\n",
    "# Return:\n",
    "#     g: g: d-by-1 matrix, full gradient\n",
    "def gradient(w, x, y, lam):\n",
    "    n, d = x.shape\n",
    "    yx = numpy.multiply(y, x) # n-by-d matrix\n",
    "    yxw = numpy.dot(yx, w) # n-by-1 matrix\n",
    "    vec1 = numpy.exp(yxw) # n-by-1 matrix\n",
    "    vec2 = numpy.divide(yx, 1+vec1) # n-by-d matrix\n",
    "    vec3 = -numpy.mean(vec2, axis=0).reshape(d, 1) # d-by-1 matrix\n",
    "    g = vec3 + lam * w\n",
    "    return g"
   ]
  },
  {
   "cell_type": "code",
   "execution_count": 9,
   "metadata": {},
   "outputs": [],
   "source": [
    "# Gradient descent for solving logistic regression\n",
    "# Inputs:\n",
    "#     x: n-by-d matrix\n",
    "#     y: n-by-1 matrix\n",
    "#     lam: scalar, the regularization parameter\n",
    "#     stepsize: scalar\n",
    "#     max_iter: integer, the maximal iterations\n",
    "#     w: d-by-1 matrix, initialization of w\n",
    "# Return:\n",
    "#     w: d-by-1 matrix, the solution\n",
    "#     objvals: a record of each iteration's objective value\n",
    "def grad_descent(x, y, lam, stepsize, max_iter=100, w=None):\n",
    "    n, d = x.shape\n",
    "    objvals = numpy.zeros(max_iter) # store the objective values\n",
    "    if w is None:\n",
    "        w = numpy.zeros((d, 1)) # zero initialization\n",
    "    \n",
    "    for t in range(max_iter):\n",
    "        objval = objective(w, x, y, lam)\n",
    "        objvals[t] = objval\n",
    "        print('Objective value at t=' + str(t) + ' is ' + str(objval))\n",
    "        g = gradient(w, x, y, lam)\n",
    "        w -= stepsize * g\n",
    "    \n",
    "    return w, objvals"
   ]
  },
  {
   "cell_type": "markdown",
   "metadata": {},
   "source": [
    "Run gradient descent."
   ]
  },
  {
   "cell_type": "code",
   "execution_count": 10,
   "metadata": {},
   "outputs": [
    {
     "name": "stdout",
     "output_type": "stream",
     "text": [
      "Objective value at t=0 is 0.6931471805599453\n",
      "Objective value at t=1 is 0.5952789510080022\n",
      "Objective value at t=2 is 0.553401209649841\n",
      "Objective value at t=3 is 0.5301933099338973\n",
      "Objective value at t=4 is 0.5154650595028012\n",
      "Objective value at t=5 is 0.5053992495462825\n",
      "Objective value at t=6 is 0.4981976735529879\n",
      "Objective value at t=7 is 0.4928810686937872\n",
      "Objective value at t=8 is 0.48886358163051913\n",
      "Objective value at t=9 is 0.48577177199573807\n",
      "Objective value at t=10 is 0.48335663809815155\n",
      "Objective value at t=11 is 0.48144644948089765\n",
      "Objective value at t=12 is 0.479919568762531\n",
      "Objective value at t=13 is 0.478687930494374\n",
      "Objective value at t=14 is 0.4776865800684243\n",
      "Objective value at t=15 is 0.4768668329638009\n",
      "Objective value at t=16 is 0.4761916817607896\n",
      "Objective value at t=17 is 0.4756326426174453\n",
      "Objective value at t=18 is 0.47516754757477914\n",
      "Objective value at t=19 is 0.4747789721531526\n",
      "Objective value at t=20 is 0.47445309796296564\n",
      "Objective value at t=21 is 0.47417887836205386\n",
      "Objective value at t=22 is 0.4739474185409894\n",
      "Objective value at t=23 is 0.4737515095064181\n",
      "Objective value at t=24 is 0.4735852739734845\n",
      "Objective value at t=25 is 0.47344389462295294\n",
      "Objective value at t=26 is 0.4733234036598169\n",
      "Objective value at t=27 is 0.4732205184722171\n",
      "Objective value at t=28 is 0.47313251229455433\n",
      "Objective value at t=29 is 0.47305711168866976\n",
      "Objective value at t=30 is 0.47299241474347664\n",
      "Objective value at t=31 is 0.4729368254056336\n",
      "Objective value at t=32 is 0.47288900046091153\n",
      "Objective value at t=33 is 0.47284780650408903\n",
      "Objective value at t=34 is 0.47281228484534965\n",
      "Objective value at t=35 is 0.47278162275997215\n",
      "Objective value at t=36 is 0.4727551298359138\n",
      "Objective value at t=37 is 0.47273221843952135\n",
      "Objective value at t=38 is 0.4727123875239416\n",
      "Objective value at t=39 is 0.4726952091630344\n",
      "Objective value at t=40 is 0.47268031731691584\n",
      "Objective value at t=41 is 0.4726673984319544\n",
      "Objective value at t=42 is 0.47265618355429245\n",
      "Objective value at t=43 is 0.47264644169642206\n",
      "Objective value at t=44 is 0.4726379742445221\n",
      "Objective value at t=45 is 0.4726306102328506\n",
      "Objective value at t=46 is 0.472624202342523\n",
      "Objective value at t=47 is 0.47261862350709577\n",
      "Objective value at t=48 is 0.47261376402772476\n",
      "Objective value at t=49 is 0.4726095291172465\n",
      "Objective value at t=50 is 0.4726058368060918\n",
      "Objective value at t=51 is 0.47260261615405874\n",
      "Objective value at t=52 is 0.47259980572113497\n",
      "Objective value at t=53 is 0.4725973522581201\n",
      "Objective value at t=54 is 0.4725952095840628\n",
      "Objective value at t=55 is 0.47259333762273953\n",
      "Objective value at t=56 is 0.4725917015747249\n",
      "Objective value at t=57 is 0.4725902712052381\n",
      "Objective value at t=58 is 0.4725890202309681\n",
      "Objective value at t=59 is 0.47258792579163433\n",
      "Objective value at t=60 is 0.4725869679941668\n",
      "Objective value at t=61 is 0.4725861295192007\n",
      "Objective value at t=62 is 0.472585395281095\n",
      "Objective value at t=63 is 0.472584752133974\n",
      "Objective value at t=64 is 0.47258418861737667\n",
      "Objective value at t=65 is 0.47258369473602985\n",
      "Objective value at t=66 is 0.4725832617690398\n",
      "Objective value at t=67 is 0.47258288210446997\n",
      "Objective value at t=68 is 0.4725825490958412\n",
      "Objective value at t=69 is 0.4725822569375802\n",
      "Objective value at t=70 is 0.4725820005568515\n",
      "Objective value at t=71 is 0.4725817755195705\n",
      "Objective value at t=72 is 0.4725815779486984\n",
      "Objective value at t=73 is 0.47258140445317554\n",
      "Objective value at t=74 is 0.47258125206608337\n",
      "Objective value at t=75 is 0.4725811181908095\n",
      "Objective value at t=76 is 0.47258100055416075\n",
      "Objective value at t=77 is 0.4725808971655098\n",
      "Objective value at t=78 is 0.47258080628118576\n",
      "Objective value at t=79 is 0.47258072637342086\n",
      "Objective value at t=80 is 0.47258065610326366\n",
      "Objective value at t=81 is 0.4725805942969385\n",
      "Objective value at t=82 is 0.4725805399252112\n",
      "Objective value at t=83 is 0.4725804920853664\n",
      "Objective value at t=84 is 0.47258044998546594\n",
      "Objective value at t=85 is 0.47258041293059094\n",
      "Objective value at t=86 is 0.4725803803108171\n",
      "Objective value at t=87 is 0.4725803515906984\n",
      "Objective value at t=88 is 0.47258032630007\n",
      "Objective value at t=89 is 0.47258030402600065\n",
      "Objective value at t=90 is 0.47258028440574973\n",
      "Objective value at t=91 is 0.47258026712060175\n",
      "Objective value at t=92 is 0.47258025189046654\n",
      "Objective value at t=93 is 0.4725802384691503\n",
      "Objective value at t=94 is 0.4725802266402125\n",
      "Objective value at t=95 is 0.4725802162133334\n",
      "Objective value at t=96 is 0.47258020702113207\n",
      "Objective value at t=97 is 0.472580198916375\n",
      "Objective value at t=98 is 0.47258019176952737\n",
      "Objective value at t=99 is 0.47258018546660746\n"
     ]
    }
   ],
   "source": [
    "lam = 1E-6\n",
    "stepsize = 1.0\n",
    "w, objvals_gd = grad_descent(x_train, y_train, lam, stepsize)"
   ]
  },
  {
   "cell_type": "markdown",
   "metadata": {},
   "source": [
    "## 3.2. Stochastic gradient descent (SGD)\n",
    "\n",
    "Define $Q_i (w) = \\log \\Big( 1 + \\exp \\big( - y_i x_i^T w \\big) \\Big) + \\frac{\\lambda}{2} \\| w \\|_2^2 $.\n",
    "\n",
    "The stochastic gradient at $w$ is $g_i = \\frac{\\partial Q_i }{ \\partial w} = -\\frac{y_i x_i }{1 + \\exp ( y_i x_i^T w)} + \\lambda w$."
   ]
  },
  {
   "cell_type": "code",
   "execution_count": 12,
   "metadata": {},
   "outputs": [],
   "source": [
    "# Calculate the objective Q_i and the gradient of Q_i\n",
    "# Inputs:\n",
    "#     w: d-by-1 matrix\n",
    "#     xi: 1-by-d matrix\n",
    "#     yi: scalar\n",
    "#     lam: scalar, the regularization parameter\n",
    "# Return:\n",
    "#     obj: scalar, the objective Q_i\n",
    "#     g: d-by-1 matrix, gradient of Q_i\n",
    "def stochastic_objective_gradient(w, xi, yi, lam):\n",
    "    d = xi.shape[0]\n",
    "    yx = yi * xi # 1-by-d matrix\n",
    "    yxw = float(numpy.dot(yx, w)) # scalar\n",
    "    \n",
    "    # calculate objective function Q_i\n",
    "    loss = numpy.log(1 + numpy.exp(-yxw)) # scalar\n",
    "    reg = lam / 2 * numpy.sum(w * w) # scalar\n",
    "    obj = loss + reg\n",
    "    \n",
    "    # calculate stochastic gradient\n",
    "    g_loss = -yx.T / (1 + numpy.exp(yxw)) # d-by-1 matrix\n",
    "    g = g_loss + lam * w # d-by-1 matrix\n",
    "    \n",
    "    return obj, g"
   ]
  },
  {
   "cell_type": "code",
   "execution_count": 13,
   "metadata": {},
   "outputs": [],
   "source": [
    "# SGD for solving logistic regression\n",
    "# Inputs:\n",
    "#     x: n-by-d matrix\n",
    "#     y: n-by-1 matrix\n",
    "#     lam: scalar, the regularization parameter\n",
    "#     stepsize: scalar\n",
    "#     max_epoch: integer, the maximal epochs\n",
    "#     w: d-by-1 matrix, initialization of w\n",
    "# Return:\n",
    "#     w: the solution\n",
    "#     objvals: record of each iteration's objective value\n",
    "def sgd(x, y, lam, stepsize, max_epoch=100, w=None):\n",
    "    n, d = x.shape\n",
    "    objvals = numpy.zeros(max_epoch) # store the objective values\n",
    "    if w is None:\n",
    "        w = numpy.zeros((d, 1)) # zero initialization\n",
    "    \n",
    "    for t in range(max_epoch):\n",
    "        # randomly shuffle the samples\n",
    "        rand_indices = numpy.random.permutation(n)\n",
    "        x_rand = x[rand_indices, :]\n",
    "        y_rand = y[rand_indices, :]\n",
    "        \n",
    "        objval = 0 # accumulate the objective values\n",
    "        for i in range(n):\n",
    "            xi = x_rand[i, :] # 1-by-d matrix\n",
    "            yi = float(y_rand[i, :]) # scalar\n",
    "            obj, g = stochastic_objective_gradient(w, xi, yi, lam)\n",
    "            objval += obj\n",
    "            w -= stepsize * g\n",
    "        \n",
    "        stepsize *= 0.9 # decrease step size\n",
    "        objval /= n\n",
    "        objvals[t] = objval\n",
    "        print('Objective value at epoch t=' + str(t) + ' is ' + str(objval))\n",
    "    \n",
    "    return w, objvals"
   ]
  },
  {
   "cell_type": "markdown",
   "metadata": {},
   "source": [
    "Run SGD."
   ]
  },
  {
   "cell_type": "code",
   "execution_count": 14,
   "metadata": {},
   "outputs": [
    {
     "name": "stdout",
     "output_type": "stream",
     "text": [
      "Objective value at epoch t=0 is 0.5371463170410598\n",
      "Objective value at epoch t=1 is 0.5271993592850056\n",
      "Objective value at epoch t=2 is 0.512089691089159\n",
      "Objective value at epoch t=3 is 0.5111392016581336\n",
      "Objective value at epoch t=4 is 0.5048007765436299\n",
      "Objective value at epoch t=5 is 0.5067008826835935\n",
      "Objective value at epoch t=6 is 0.5019983290595897\n",
      "Objective value at epoch t=7 is 0.4978978384827085\n",
      "Objective value at epoch t=8 is 0.4948041380477319\n",
      "Objective value at epoch t=9 is 0.49726742748969366\n",
      "Objective value at epoch t=10 is 0.49053777942031157\n",
      "Objective value at epoch t=11 is 0.49373505027205566\n",
      "Objective value at epoch t=12 is 0.4876499579061398\n",
      "Objective value at epoch t=13 is 0.49083423152529293\n",
      "Objective value at epoch t=14 is 0.4871232715052905\n",
      "Objective value at epoch t=15 is 0.4823448059329144\n",
      "Objective value at epoch t=16 is 0.48437736599870845\n",
      "Objective value at epoch t=17 is 0.4825501041343629\n",
      "Objective value at epoch t=18 is 0.48134386746275604\n",
      "Objective value at epoch t=19 is 0.48087839755995165\n",
      "Objective value at epoch t=20 is 0.4802053845458567\n",
      "Objective value at epoch t=21 is 0.48002698970665647\n",
      "Objective value at epoch t=22 is 0.47933611426227757\n",
      "Objective value at epoch t=23 is 0.4788284632539265\n",
      "Objective value at epoch t=24 is 0.4780664918819274\n",
      "Objective value at epoch t=25 is 0.477493761737859\n",
      "Objective value at epoch t=26 is 0.47666336934476716\n",
      "Objective value at epoch t=27 is 0.476162765137476\n",
      "Objective value at epoch t=28 is 0.4764161889777835\n",
      "Objective value at epoch t=29 is 0.4759531499277062\n",
      "Objective value at epoch t=30 is 0.475525391200207\n",
      "Objective value at epoch t=31 is 0.47525680737604586\n",
      "Objective value at epoch t=32 is 0.4749777693027059\n",
      "Objective value at epoch t=33 is 0.47473836344872333\n",
      "Objective value at epoch t=34 is 0.47441575972411526\n",
      "Objective value at epoch t=35 is 0.4743217660029756\n",
      "Objective value at epoch t=36 is 0.47417585058306255\n",
      "Objective value at epoch t=37 is 0.474055966962425\n",
      "Objective value at epoch t=38 is 0.4738795605256281\n",
      "Objective value at epoch t=39 is 0.47377969181761975\n",
      "Objective value at epoch t=40 is 0.47366077333140616\n",
      "Objective value at epoch t=41 is 0.4735506225705442\n",
      "Objective value at epoch t=42 is 0.4734452720201314\n",
      "Objective value at epoch t=43 is 0.4733701549771593\n",
      "Objective value at epoch t=44 is 0.473278649511382\n",
      "Objective value at epoch t=45 is 0.4732178296800743\n",
      "Objective value at epoch t=46 is 0.47316040441287505\n",
      "Objective value at epoch t=47 is 0.4730972471582505\n",
      "Objective value at epoch t=48 is 0.4730430539410974\n",
      "Objective value at epoch t=49 is 0.47300218398908056\n",
      "Objective value at epoch t=50 is 0.4729593428396002\n",
      "Objective value at epoch t=51 is 0.4729235320838387\n",
      "Objective value at epoch t=52 is 0.47288935399659643\n",
      "Objective value at epoch t=53 is 0.4728577401527621\n",
      "Objective value at epoch t=54 is 0.47282928760929016\n",
      "Objective value at epoch t=55 is 0.4728056387030259\n",
      "Objective value at epoch t=56 is 0.4727828413039361\n",
      "Objective value at epoch t=57 is 0.47276286002282647\n",
      "Objective value at epoch t=58 is 0.47274463223222735\n",
      "Objective value at epoch t=59 is 0.47272832788899466\n",
      "Objective value at epoch t=60 is 0.47271343596713583\n",
      "Objective value at epoch t=61 is 0.472700214776721\n",
      "Objective value at epoch t=62 is 0.47268823427986933\n",
      "Objective value at epoch t=63 is 0.47267742748980784\n",
      "Objective value at epoch t=64 is 0.4726672677173008\n",
      "Objective value at epoch t=65 is 0.47265906352477827\n",
      "Objective value at epoch t=66 is 0.47265117460347156\n",
      "Objective value at epoch t=67 is 0.4726440873714077\n",
      "Objective value at epoch t=68 is 0.4726378299209323\n",
      "Objective value at epoch t=69 is 0.4726320713061532\n",
      "Objective value at epoch t=70 is 0.4726268858343275\n",
      "Objective value at epoch t=71 is 0.4726222382029193\n",
      "Objective value at epoch t=72 is 0.47261811354237127\n",
      "Objective value at epoch t=73 is 0.47261428881561474\n",
      "Objective value at epoch t=74 is 0.4726109487830301\n",
      "Objective value at epoch t=75 is 0.47260790343411135\n",
      "Objective value at epoch t=76 is 0.4726051718578797\n",
      "Objective value at epoch t=77 is 0.4726026942211141\n",
      "Objective value at epoch t=78 is 0.4726004683840097\n",
      "Objective value at epoch t=79 is 0.4725984782883929\n",
      "Objective value at epoch t=80 is 0.47259667918357495\n",
      "Objective value at epoch t=81 is 0.47259505617434727\n",
      "Objective value at epoch t=82 is 0.4725935946760791\n",
      "Objective value at epoch t=83 is 0.4725922825301659\n",
      "Objective value at epoch t=84 is 0.47259109730619453\n",
      "Objective value at epoch t=85 is 0.47259003952921036\n",
      "Objective value at epoch t=86 is 0.472589081373946\n",
      "Objective value at epoch t=87 is 0.47258821874006407\n",
      "Objective value at epoch t=88 is 0.4725874457187381\n",
      "Objective value at epoch t=89 is 0.4725867479145372\n",
      "Objective value at epoch t=90 is 0.4725861204538671\n",
      "Objective value at epoch t=91 is 0.4725855550011281\n",
      "Objective value at epoch t=92 is 0.4725850462838579\n",
      "Objective value at epoch t=93 is 0.4725845879565569\n",
      "Objective value at epoch t=94 is 0.4725841764421462\n",
      "Objective value at epoch t=95 is 0.472583805250323\n",
      "Objective value at epoch t=96 is 0.47258347169672504\n",
      "Objective value at epoch t=97 is 0.4725831711057139\n",
      "Objective value at epoch t=98 is 0.47258290082655424\n",
      "Objective value at epoch t=99 is 0.47258265747302397\n"
     ]
    }
   ],
   "source": [
    "lam = 1E-6\n",
    "stepsize = 0.1\n",
    "w, objvals_sgd = sgd(x_train, y_train, lam, stepsize)"
   ]
  },
  {
   "cell_type": "markdown",
   "metadata": {},
   "source": [
    "# 4. Compare GD with SGD\n",
    "\n",
    "Plot objective function values against epochs."
   ]
  },
  {
   "cell_type": "code",
   "execution_count": 15,
   "metadata": {},
   "outputs": [
    {
     "data": {
      "image/png": "[encoded data removed]",
      "text/plain": [
       "<Figure size 432x288 with 1 Axes>"
      ]
     },
     "metadata": {
      "needs_background": "light"
     },
     "output_type": "display_data"
    }
   ],
   "source": [
    "import matplotlib.pyplot as plt\n",
    "%matplotlib inline\n",
    "\n",
    "fig = plt.figure(figsize=(6, 4))\n",
    "\n",
    "epochs_gd = range(len(objvals_gd))\n",
    "epochs_sgd = range(len(objvals_sgd))\n",
    "\n",
    "line0, = plt.plot(epochs_gd, objvals_gd, '--b', LineWidth=4)\n",
    "line1, = plt.plot(epochs_sgd, objvals_sgd, '-r', LineWidth=2)\n",
    "plt.xlabel('Epochs', FontSize=20)\n",
    "plt.ylabel('Objective Value', FontSize=20)\n",
    "plt.xticks(FontSize=16)\n",
    "plt.yticks(FontSize=16)\n",
    "plt.legend([line0, line1], ['GD', 'SGD'], fontsize=20)\n",
    "plt.tight_layout()\n",
    "plt.show()\n",
    "fig.savefig('compare_gd_sgd.pdf', format='pdf', dpi=1200)"
   ]
  },
  {
   "cell_type": "markdown",
   "metadata": {},
   "source": [
    "# 5. Prediction"
   ]
  },
  {
   "cell_type": "code",
   "execution_count": 16,
   "metadata": {},
   "outputs": [],
   "source": [
    "# Predict class label\n",
    "# Inputs:\n",
    "#     w: d-by-1 matrix\n",
    "#     X: m-by-d matrix\n",
    "# Return:\n",
    "#     f: m-by-1 matrix, the predictions\n",
    "def predict(w, X):\n",
    "    xw = numpy.dot(X, w)\n",
    "    f = numpy.sign(xw)\n",
    "    return f"
   ]
  },
  {
   "cell_type": "code",
   "execution_count": 17,
   "metadata": {},
   "outputs": [
    {
     "name": "stdout",
     "output_type": "stream",
     "text": [
      "Training classification error is 0.22113821138211381\n"
     ]
    }
   ],
   "source": [
    "# evaluate training error\n",
    "f_train = predict(w, x_train)\n",
    "diff = numpy.abs(f_train - y_train) / 2\n",
    "error_train = numpy.mean(diff)\n",
    "print('Training classification error is ' + str(error_train))"
   ]
  },
  {
   "cell_type": "code",
   "execution_count": 18,
   "metadata": {},
   "outputs": [
    {
     "name": "stdout",
     "output_type": "stream",
     "text": [
      "Test classification error is 0.1895424836601307\n"
     ]
    }
   ],
   "source": [
    "# evaluate test error\n",
    "f_test = predict(w, x_test)\n",
    "diff = numpy.abs(f_test - y_test) / 2\n",
    "error_test = numpy.mean(diff)\n",
    "print('Test classification error is ' + str(error_test))"
   ]
  },
  {
   "cell_type": "markdown",
   "metadata": {},
   "source": [
    "# 6. Mini-batch SGD (fill the code)\n",
    "\n",
    "Define $Q_I (w) = \\frac{1}{b} \\sum_{i \\in I} \\log \\Big( 1 + \\exp \\big( - y_i x_i^T w \\big) \\Big) + \\frac{\\lambda}{2} \\| w \\|_2^2 $, where $I$ is a set containing $b$ indices randomly drawn from $\\{ 1, \\cdots , n \\}$ without replacement.\n",
    "\n",
    "The stochastic gradient at $w$ is $g_I = \\frac{\\partial Q_I }{ \\partial w} = \\frac{1}{b} \\sum_{i \\in I} \\frac{- y_i x_i }{1 + \\exp ( y_i x_i^T w)} + \\lambda w$."
   ]
  },
  {
   "cell_type": "markdown",
   "metadata": {},
   "source": [
    "## 6.1. Compute the objective $Q_I$ and its gradient using a batch of samples"
   ]
  },
  {
   "cell_type": "code",
   "execution_count": 37,
   "metadata": {},
   "outputs": [],
   "source": [
    "# Calculate the objective Q_I and the gradient of Q_I\n",
    "# Inputs:\n",
    "#     w: d-by-1 matrix\n",
    "#     xi: 1-by-d matrix\n",
    "#     yi: scalar\n",
    "#     lam: scalar, the regularization parameter\n",
    "#     b: integer, the batch size\n",
    "# Return:\n",
    "#     obj: scalar, the objective Q_i\n",
    "#     g: d-by-1 matrix, gradient of Q_i\n",
    "def mb_stochastic_objective_gradient(w, xi, yi, lam, b):\n",
    "    # Fill the function\n",
    "    # Follow the implementation of stochastic_objective_gradient\n",
    "    # Use matrix-vector multiplication; do not use FOR LOOP of vector-vector multiplications   \n",
    "    \n",
    "    \n",
    "    # Define the \n",
    "    n,d = xi.shape\n",
    "    yx = numpy.multiply(yi, xi)# n-by-d matrix\n",
    "    yxw = numpy.dot(yx,w) # d-by-1 matrix\n",
    "    \n",
    "    \n",
    "    \n",
    "    obj = (1/b) * numpy.sum(numpy.log(1 + numpy.exp(-yxw))) + lam/2 * numpy.sum(w*w)\n",
    "    \n",
    "    g = -(1/b) * numpy.sum( numpy.divide(yx, 1+numpy.exp(yxw))) + lam*w\n",
    "    \n",
    "    \n",
    "    \n",
    "    return obj, g"
   ]
  },
  {
   "cell_type": "markdown",
   "metadata": {},
   "source": [
    "## 6.2. Implement mini-batch SGD"
   ]
  },
  {
   "cell_type": "code",
   "execution_count": 38,
   "metadata": {},
   "outputs": [],
   "source": [
    "# Mini-Batch SGD for solving logistic regression\n",
    "# Inputs:\n",
    "#     x: n-by-d matrix\n",
    "#     y: n-by-1 matrix\n",
    "#     lam: scalar, the regularization parameter\n",
    "#     b: integer, the batch size\n",
    "#     stepsize: scalar\n",
    "#     max_epoch: integer, the maximal epochs\n",
    "#     w: d-by-1 matrix, initialization of w\n",
    "# Return:\n",
    "#     w: the solution\n",
    "#     objvals: record of each iteration's objective value\n",
    "def mb_sgd(x, y, lam, b, stepsize, max_epoch=100, w=None):\n",
    "    # Fill the function\n",
    "    # Follow the implementation of sgd\n",
    "    # Record one objective value per epoch (not per iteration!)\n",
    "    n,d =x.shape\n",
    "    objvals = numpy.zeros(max_epoch)\n",
    "    if w is None:\n",
    "        w = numpy.zeros((d,1))\n",
    "    \n",
    "    \n",
    "    # Mini-batch\n",
    "    for t in range(max_epoch):\n",
    "    \n",
    "        num_batch = int(numpy.ceil(x.shape[0]/b))\n",
    "        objval = 0\n",
    "        for i in range(1,num_batch+1):\n",
    "            mini_x = x[(i-1)*b:i*b, :]\n",
    "            mini_y = y[(i-1)*b:i*b, :]\n",
    "            obj, g = mb_stochastic_objective_gradient(w, mini_x, mini_y, lam, b)\n",
    "\n",
    "            # Update the parameters\n",
    "            objval += obj\n",
    "            w -= stepsize*g # Update w accroding to g\n",
    "        \n",
    "        objval /= n\n",
    "        objvals[t] = objval\n",
    "        stepsize *= 0.9\n",
    "    \n",
    "        print('Objective value at epoch t=' + str(t) + ' is ' + str(objval))\n",
    "    return w, objvals"
   ]
  },
  {
   "cell_type": "markdown",
   "metadata": {},
   "source": [
    "## 6.3. Run MB-SGD"
   ]
  },
  {
   "cell_type": "code",
   "execution_count": 39,
   "metadata": {},
   "outputs": [
    {
     "name": "stdout",
     "output_type": "stream",
     "text": [
      "Objective value at epoch t=0 is 0.08318946638637102\n",
      "Objective value at epoch t=1 is 0.0830815096514128\n",
      "Objective value at epoch t=2 is 0.08288783357913486\n",
      "Objective value at epoch t=3 is 0.08272002694568609\n",
      "Objective value at epoch t=4 is 0.08257382231772575\n",
      "Objective value at epoch t=5 is 0.08244576870717531\n",
      "Objective value at epoch t=6 is 0.0823330619467411\n",
      "Objective value at epoch t=7 is 0.08223341846782269\n",
      "Objective value at epoch t=8 is 0.08214497457144565\n",
      "Objective value at epoch t=9 is 0.08206620251966881\n",
      "Objective value at epoch t=10 is 0.08199583938724565\n",
      "Objective value at epoch t=11 is 0.08193282704122921\n",
      "Objective value at epoch t=12 is 0.08187626313788678\n",
      "Objective value at epoch t=13 is 0.08182536377192279\n",
      "Objective value at epoch t=14 is 0.08177943809945253\n",
      "Objective value at epoch t=15 is 0.08173787393870284\n",
      "Objective value at epoch t=16 is 0.08170013166492006\n",
      "Objective value at epoch t=17 is 0.081665742551062\n",
      "Objective value at epoch t=18 is 0.08163430768171527\n",
      "Objective value at epoch t=19 is 0.08160549468820308\n",
      "Objective value at epoch t=20 is 0.0815790312637556\n",
      "Objective value at epoch t=21 is 0.08155469597790448\n",
      "Objective value at epoch t=22 is 0.08153230780326351\n",
      "Objective value at epoch t=23 is 0.08151171589848574\n",
      "Objective value at epoch t=24 is 0.08149279079369409\n",
      "Objective value at epoch t=25 is 0.08147541754011257\n",
      "Objective value at epoch t=26 is 0.08145949087427283\n",
      "Objective value at epoch t=27 is 0.08144491212373611\n",
      "Objective value at epoch t=28 is 0.08143158744506858\n",
      "Objective value at epoch t=29 is 0.08141942698052336\n",
      "Objective value at epoch t=30 is 0.08140834458512948\n",
      "Objective value at epoch t=31 is 0.081398257863833\n",
      "Objective value at epoch t=32 is 0.08138908834185268\n",
      "Objective value at epoch t=33 is 0.08138076165883858\n",
      "Objective value at epoch t=34 is 0.0813732077264282\n",
      "Objective value at epoch t=35 is 0.08136636082159542\n",
      "Objective value at epoch t=36 is 0.08136015960849395\n",
      "Objective value at epoch t=37 is 0.08135454709296214\n",
      "Objective value at epoch t=38 is 0.08134947051950062\n",
      "Objective value at epoch t=39 is 0.08134488122256613\n",
      "Objective value at epoch t=40 is 0.08134073444398633\n",
      "Objective value at epoch t=41 is 0.08133698912718221\n",
      "Objective value at epoch t=42 is 0.08133360769730921\n",
      "Objective value at epoch t=43 is 0.08133055583474923\n",
      "Objective value at epoch t=44 is 0.08132780224780146\n",
      "Objective value at epoch t=45 is 0.0813253184490176\n",
      "Objective value at epoch t=46 is 0.0813230785384435\n",
      "Objective value at epoch t=47 is 0.08132105899605314\n",
      "Objective value at epoch t=48 is 0.08131923848488362\n",
      "Objective value at epoch t=49 is 0.08131759766577083\n",
      "Objective value at epoch t=50 is 0.08131611902411479\n",
      "Objective value at epoch t=51 is 0.08131478670875207\n",
      "Objective value at epoch t=52 is 0.08131358638275485\n",
      "Objective value at epoch t=53 is 0.0813125050857895\n",
      "Objective value at epoch t=54 is 0.08131153110754148\n",
      "Objective value at epoch t=55 is 0.081310653871633\n",
      "Objective value at epoch t=56 is 0.08130986382940822\n",
      "Objective value at epoch t=57 is 0.08130915236294232\n",
      "Objective value at epoch t=58 is 0.08130851169662685\n",
      "Objective value at epoch t=59 is 0.08130793481669125\n",
      "Objective value at epoch t=60 is 0.08130741539804613\n",
      "Objective value at epoch t=61 is 0.08130694773785649\n",
      "Objective value at epoch t=62 is 0.08130652669528599\n",
      "Objective value at epoch t=63 is 0.08130614763688684\n",
      "Objective value at epoch t=64 is 0.08130580638714466\n",
      "Objective value at epoch t=65 is 0.0813054991837218\n",
      "Objective value at epoch t=66 is 0.0813052226369769\n",
      "Objective value at epoch t=67 is 0.0813049736933723\n",
      "Objective value at epoch t=68 is 0.08130474960241012\n",
      "Objective value at epoch t=69 is 0.08130454788677058\n",
      "Objective value at epoch t=70 is 0.08130436631535157\n",
      "Objective value at epoch t=71 is 0.08130420287893593\n",
      "Objective value at epoch t=72 is 0.08130405576823665\n",
      "Objective value at epoch t=73 is 0.08130392335409303\n",
      "Objective value at epoch t=74 is 0.08130380416961103\n",
      "Objective value at epoch t=75 is 0.08130369689406004\n",
      "Objective value at epoch t=76 is 0.08130360033835743\n",
      "Objective value at epoch t=77 is 0.08130351343198405\n",
      "Objective value at epoch t=78 is 0.08130343521119371\n",
      "Objective value at epoch t=79 is 0.08130336480838928\n",
      "Objective value at epoch t=80 is 0.08130330144255048\n",
      "Objective value at epoch t=81 is 0.08130324441061089\n",
      "Objective value at epoch t=82 is 0.08130319307969101\n",
      "Objective value at epoch t=83 is 0.08130314688010222\n",
      "Objective value at epoch t=84 is 0.08130310529904605\n",
      "Objective value at epoch t=85 is 0.0813030678749405\n",
      "Objective value at epoch t=86 is 0.08130303419230993\n",
      "Objective value at epoch t=87 is 0.08130300387718467\n",
      "Objective value at epoch t=88 is 0.08130297659295821\n",
      "Objective value at epoch t=89 is 0.08130295203665736\n",
      "Objective value at epoch t=90 is 0.08130292993558397\n",
      "Objective value at epoch t=91 is 0.08130291004429178\n",
      "Objective value at epoch t=92 is 0.08130289214186474\n",
      "Objective value at epoch t=93 is 0.08130287602946644\n",
      "Objective value at epoch t=94 is 0.08130286152813473\n",
      "Objective value at epoch t=95 is 0.08130284847679581\n",
      "Objective value at epoch t=96 is 0.08130283673047708\n",
      "Objective value at epoch t=97 is 0.08130282615869823\n",
      "Objective value at epoch t=98 is 0.08130281664402261\n",
      "Objective value at epoch t=99 is 0.0813028080807542\n"
     ]
    }
   ],
   "source": [
    "# MB-SGD with batch size b=8\n",
    "lam = 1E-6 # do not change\n",
    "b = 8 # do not change\n",
    "stepsize = 0.1 # you must tune this parameter\n",
    "\n",
    "w, objvals_mbsgd8 = mb_sgd(x_train, y_train, lam, b, stepsize)"
   ]
  },
  {
   "cell_type": "code",
   "execution_count": 40,
   "metadata": {},
   "outputs": [
    {
     "name": "stdout",
     "output_type": "stream",
     "text": [
      "Objective value at epoch t=0 is 0.010237272742782898\n",
      "Objective value at epoch t=1 is 0.010185245390724365\n",
      "Objective value at epoch t=2 is 0.010184585627908554\n",
      "Objective value at epoch t=3 is 0.010182611533259098\n",
      "Objective value at epoch t=4 is 0.010180746977485873\n",
      "Objective value at epoch t=5 is 0.010179036680258578\n",
      "Objective value at epoch t=6 is 0.010177474401289084\n",
      "Objective value at epoch t=7 is 0.010176051151254\n",
      "Objective value at epoch t=8 is 0.01017475757851358\n",
      "Objective value at epoch t=9 is 0.01017358423662802\n",
      "Objective value at epoch t=10 is 0.010172521759837627\n",
      "Objective value at epoch t=11 is 0.010171561024631072\n",
      "Objective value at epoch t=12 is 0.010170693281268958\n",
      "Objective value at epoch t=13 is 0.010169910248133301\n",
      "Objective value at epoch t=14 is 0.010169204170607495\n",
      "Objective value at epoch t=15 is 0.010168567850220368\n",
      "Objective value at epoch t=16 is 0.010167994650825305\n",
      "Objective value at epoch t=17 is 0.010167478488147273\n",
      "Objective value at epoch t=18 is 0.01016701380801025\n",
      "Objective value at epoch t=19 is 0.010166595557418582\n",
      "Objective value at epoch t=20 is 0.010166219151622571\n",
      "Objective value at epoch t=21 is 0.01016588043942855\n",
      "Objective value at epoch t=22 is 0.010165575668328004\n",
      "Objective value at epoch t=23 is 0.010165301450499854\n",
      "Objective value at epoch t=24 is 0.01016505473035645\n",
      "Objective value at epoch t=25 is 0.010164832754027776\n",
      "Objective value at epoch t=26 is 0.010164633040984314\n",
      "Objective value at epoch t=27 is 0.01016445335786582\n",
      "Objective value at epoch t=28 is 0.010164291694494483\n",
      "Objective value at epoch t=29 is 0.010164146241994028\n",
      "Objective value at epoch t=30 is 0.010164015372901914\n",
      "Objective value at epoch t=31 is 0.010163897623143027\n",
      "Objective value at epoch t=32 is 0.010163791675725183\n",
      "Objective value at epoch t=33 is 0.010163696346015801\n",
      "Objective value at epoch t=34 is 0.010163610568462714\n",
      "Objective value at epoch t=35 is 0.01016353338462859\n",
      "Objective value at epoch t=36 is 0.010163463932416503\n",
      "Objective value at epoch t=37 is 0.010163401436373034\n",
      "Objective value at epoch t=38 is 0.010163345198964403\n",
      "Objective value at epoch t=39 is 0.01016329459273002\n",
      "Objective value at epoch t=40 is 0.010163249053226504\n",
      "Objective value at epoch t=41 is 0.010163208072683252\n",
      "Objective value at epoch t=42 is 0.010163171194298139\n",
      "Objective value at epoch t=43 is 0.010163138007108967\n",
      "Objective value at epoch t=44 is 0.010163108141382512\n",
      "Objective value at epoch t=45 is 0.010163081264468864\n",
      "Objective value at epoch t=46 is 0.01016305707707399\n",
      "Objective value at epoch t=47 is 0.010163035309908188\n",
      "Objective value at epoch t=48 is 0.010163015720672363\n",
      "Objective value at epoch t=49 is 0.010162998091347951\n",
      "Objective value at epoch t=50 is 0.010162982225759752\n",
      "Objective value at epoch t=51 is 0.01016296794738407\n",
      "Objective value at epoch t=52 is 0.010162955097377378\n",
      "Objective value at epoch t=53 is 0.010162943532803212\n",
      "Objective value at epoch t=54 is 0.010162933125037285\n",
      "Objective value at epoch t=55 is 0.010162923758332864\n",
      "Objective value at epoch t=56 is 0.010162915328530212\n",
      "Objective value at epoch t=57 is 0.010162907741895589\n",
      "Objective value at epoch t=58 is 0.010162900914076808\n",
      "Objective value at epoch t=59 is 0.010162894769163548\n",
      "Objective value at epoch t=60 is 0.010162889238841911\n",
      "Objective value at epoch t=61 is 0.010162884261633793\n",
      "Objective value at epoch t=62 is 0.010162879782212466\n",
      "Objective value at epoch t=63 is 0.010162875750786775\n",
      "Objective value at epoch t=64 is 0.010162872122547031\n",
      "Objective value at epoch t=65 is 0.010162868857166432\n",
      "Objective value at epoch t=66 is 0.010162865918352405\n",
      "Objective value at epoch t=67 is 0.010162863273442888\n",
      "Objective value at epoch t=68 is 0.010162860893043054\n",
      "Objective value at epoch t=69 is 0.010162858750698384\n",
      "Objective value at epoch t=70 is 0.010162856822600486\n",
      "Objective value at epoch t=71 is 0.010162855087322347\n",
      "Objective value at epoch t=72 is 0.010162853525580103\n",
      "Objective value at epoch t=73 is 0.010162852120018629\n",
      "Objective value at epoch t=74 is 0.01016285085501861\n",
      "Objective value at epoch t=75 is 0.010162849716522886\n",
      "Objective value at epoch t=76 is 0.010162848691880222\n",
      "Objective value at epoch t=77 is 0.010162847769704645\n",
      "Objective value at epoch t=78 is 0.010162846939748909\n",
      "Objective value at epoch t=79 is 0.010162846192790601\n",
      "Objective value at epoch t=80 is 0.010162845520529621\n",
      "Objective value at epoch t=81 is 0.010162844915495958\n",
      "Objective value at epoch t=82 is 0.010162844370966645\n",
      "Objective value at epoch t=83 is 0.01016284388089106\n",
      "Objective value at epoch t=84 is 0.01016284343982368\n",
      "Objective value at epoch t=85 is 0.010162843042863565\n",
      "Objective value at epoch t=86 is 0.010162842685599882\n",
      "Objective value at epoch t=87 is 0.01016284236406291\n",
      "Objective value at epoch t=88 is 0.010162842074679917\n",
      "Objective value at epoch t=89 is 0.010162841814235447\n",
      "Objective value at epoch t=90 is 0.010162841579835605\n",
      "Objective value at epoch t=91 is 0.0101628413688759\n",
      "Objective value at epoch t=92 is 0.010162841179012278\n",
      "Objective value at epoch t=93 is 0.010162841008135122\n",
      "Objective value at epoch t=94 is 0.010162840854345755\n",
      "Objective value at epoch t=95 is 0.010162840715935394\n",
      "Objective value at epoch t=96 is 0.010162840591366115\n",
      "Objective value at epoch t=97 is 0.010162840479253808\n",
      "Objective value at epoch t=98 is 0.010162840378352769\n",
      "Objective value at epoch t=99 is 0.010162840287541856\n"
     ]
    }
   ],
   "source": [
    "# MB-SGD with batch size b=64\n",
    "lam = 1E-6 # do not change\n",
    "b = 64 # do not change\n",
    "stepsize = 0.1 # you must tune this parameter\n",
    "\n",
    "w, objvals_mbsgd64 = mb_sgd(x_train, y_train, lam, b, stepsize)"
   ]
  },
  {
   "cell_type": "markdown",
   "metadata": {},
   "source": [
    "# 7. Plot and compare GD, SGD, and MB-SGD"
   ]
  },
  {
   "cell_type": "markdown",
   "metadata": {},
   "source": [
    "You are required to compare the following algorithms:\n",
    "\n",
    "- Gradient descent (GD)\n",
    "\n",
    "- SGD\n",
    "\n",
    "- MB-SGD with b=8\n",
    "\n",
    "- MB-SGD with b=64\n",
    "\n",
    "Follow the code in Section 4 to plot ```objective function value``` against ```epochs```. There should be four curves in the plot; each curve corresponds to one algorithm."
   ]
  },
  {
   "cell_type": "code",
   "execution_count": 76,
   "metadata": {},
   "outputs": [
    {
     "data": {
      "image/png": "[encoded data removed]",
      "text/plain": [
       "<Figure size 576x432 with 1 Axes>"
      ]
     },
     "metadata": {
      "needs_background": "light"
     },
     "output_type": "display_data"
    }
   ],
   "source": [
    "# plot the 4 curves:\n",
    "\n",
    "\n",
    "fig = plt.figure(figsize=(8,6))\n",
    "\n",
    "epochs_gd = range(len(objvals_gd))\n",
    "epochs_sgd = range(len(objvals_sgd))\n",
    "epochs_objvals_mbsgd8 = range(len(objvals_mbsgd8))\n",
    "epochs_objvals_mbsgd64 = range(len(objvals_mbsgd64))\n",
    "\n",
    "line0, = plt.plot(epochs_gd, objvals_gd, '--b', LineWidth=4)\n",
    "line1, = plt.plot(epochs_sgd, objvals_sgd, '-r', LineWidth=2)\n",
    "line2, = plt.plot(epochs_objvals_mbsgd8,objvals_mbsgd8,'--d',LineWidth=4)\n",
    "line3, = plt.plot(epochs_objvals_mbsgd64,objvals_mbsgd64,'-o',LineWidth=1)\n",
    "\n",
    "plt.xlabel('Epochs', FontSize=20)\n",
    "plt.ylabel('Objective Value', FontSize=20)\n",
    "plt.xticks(FontSize=16)\n",
    "plt.yticks(numpy.arange(0,1,0.05),FontSize=16)\n",
    "plt.legend([line0, line1, line2,line3], ['GD', 'SGD','8_Minibatch_SGD','64_Minibatch_SGD'], fontsize=15)\n",
    "plt.tight_layout()\n",
    "plt.show()\n",
    "fig.savefig('compare_gd_sgd.pdf', format='pdf', dpi=1200)"
   ]
  },
  {
   "cell_type": "markdown",
   "metadata": {},
   "source": []
  }
 ],
 "metadata": {
  "kernelspec": {
   "display_name": "Python 3",
   "language": "python",
   "name": "python3"
  },
  "language_info": {
   "codemirror_mode": {
    "name": "ipython",
    "version": 3
   },
   "file_extension": ".py",
   "mimetype": "text/x-python",
   "name": "python",
   "nbconvert_exporter": "python",
   "pygments_lexer": "ipython3",
   "version": "3.7.1"
  }
 },
 "nbformat": 4,
 "nbformat_minor": 2
}
